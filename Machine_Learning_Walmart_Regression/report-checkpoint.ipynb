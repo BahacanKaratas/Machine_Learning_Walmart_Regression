{
 "cells": [
  {
   "cell_type": "markdown",
   "metadata": {},
   "source": [
    "Name: Bahacan Karatas\n",
    "\n",
    "ID: 191101069\n",
    "\n",
    "Course: BIL570 /BIL470"
   ]
  },
  {
   "cell_type": "code",
   "execution_count": null,
   "metadata": {},
   "outputs": [],
   "source": [
    "import pandas as pd\n",
    "import numpy as np\n",
    "import matplotlib.pyplot as plt\n",
    "import seaborn as sns\n",
    "from sklearn.model_selection import train_test_split\n",
    "\n",
    "\n",
    "from sklearn.linear_model import LinearRegression\n",
    "from sklearn.neighbors import KNeighborsRegressor\n",
    "from sklearn.tree import DecisionTreeRegressor\n",
    "from sklearn.ensemble import RandomForestRegressor\n",
    "from sklearn.linear_model import LogisticRegression\n",
    "\n",
    "from sklearn.utils import shuffle\n",
    "from sklearn.metrics import confusion_matrix, f1_score, precision_score, recall_score, accuracy_score, roc_auc_score, roc_curve, auc, r2_score\n",
    "import random\n",
    "import math\n",
    "from sklearn.metrics import mean_squared_error \n",
    "from sklearn.metrics import mean_absolute_error\n",
    "\n",
    "from sklearn.linear_model import SGDRegressor\n",
    "from sklearn.datasets import load_boston\n",
    "from sklearn.datasets import make_regression\n",
    "from sklearn.metrics import mean_squared_error\n",
    "from sklearn.model_selection import train_test_split\n",
    "from sklearn.model_selection import cross_val_score\n",
    "from sklearn.preprocessing import scale\n",
    "import matplotlib.pyplot as plt \n",
    " "
   ]
  },
  {
   "cell_type": "markdown",
   "metadata": {},
   "source": [
    "# Exploratory Data Analysis (EDA)"
   ]
  },
  {
   "cell_type": "code",
   "execution_count": null,
   "metadata": {},
   "outputs": [],
   "source": [
    "#Read the data set\n",
    "mainList= pd.read_csv(\"Walmart.csv\")\n",
    "weekly = mainList[\"Weekly_Sales\"].describe()\n",
    "print(weekly)\n"
   ]
  },
  {
   "cell_type": "code",
   "execution_count": null,
   "metadata": {},
   "outputs": [],
   "source": [
    "correlationMatrix = mainList.corr();\n",
    "sns.heatmap(correlationMatrix, annot=True);"
   ]
  },
  {
   "cell_type": "code",
   "execution_count": null,
   "metadata": {},
   "outputs": [],
   "source": [
    "#Date Data Clean Up and Shaping\n",
    "\n",
    "\n",
    "for i in mainList[\"Date\"]:\n",
    "    if \"/\" in str(i):\n",
    "        mainList[\"Date\"] = mainList[\"Date\"].replace(i, int(i[i.index(\"/\")+1:i.rindex(\"/\")]))\n",
    "    if \"-\" in str(i):\n",
    "        mainList[\"Date\"] = mainList[\"Date\"].replace(i, int(i[i.index(\"-\")+1:i.rindex(\"-\")]))\n",
    "\n"
   ]
  },
  {
   "cell_type": "code",
   "execution_count": null,
   "metadata": {},
   "outputs": [],
   "source": [
    "\n",
    "#Weekly Sale Clean Up and Shaping\n",
    "loop=0\n",
    "while(loop<len(mainList[\"Weekly_Sales\"])-5):\n",
    "    thisWeekTotal=0\n",
    "    thisDate=mainList.iloc[loop][\"Date\"]\n",
    "    weeks=0\n",
    "    while(thisDate==mainList.iloc[loop+weeks][\"Date\"]):\n",
    "        thisWeekTotal+=mainList.iloc[loop+weeks][\"Weekly_Sales\"]\n",
    "        weeks+=1\n",
    "    if(weeks==5):\n",
    "        thisWeekTotal=thisWeekTotal*(4/5)\n",
    "    for x in range(weeks):\n",
    "        mainList[\"Weekly_Sales\"]=mainList[\"Weekly_Sales\"].replace(mainList.iloc[loop+x][\"Weekly_Sales\"],thisWeekTotal)\n",
    "    loop+=weeks\n",
    "mainList.drop(6434, axis=0, inplace=True)\n",
    "mainList.drop(6433, axis=0, inplace=True)\n",
    "mainList.drop(6432, axis=0, inplace=True)\n",
    "mainList.drop(6431, axis=0, inplace=True)\n",
    "\n",
    "mainList.rename(columns={\"Weekly_Sales\": \"Monthly_Sales\"}, inplace=True)\n",
    "\n",
    "\n"
   ]
  },
  {
   "cell_type": "markdown",
   "metadata": {},
   "source": [
    "## Data Set Summary\n"
   ]
  },
  {
   "cell_type": "code",
   "execution_count": null,
   "metadata": {},
   "outputs": [],
   "source": [
    "display(mainList)"
   ]
  },
  {
   "cell_type": "code",
   "execution_count": null,
   "metadata": {},
   "outputs": [],
   "source": [
    "store = mainList[\"Store\"].describe()\n",
    "date = mainList[\"Date\"].describe()\n",
    "monthly_sales = mainList[\"Monthly_Sales\"].describe()\n",
    "holiday_flag = mainList[\"Holiday_Flag\"].describe()\n",
    "temperature = mainList[\"Temperature\"].describe()\n",
    "fuel=mainList[\"Fuel_Price\"].describe()\n",
    "cpi = mainList[\"CPI\"].describe()\n",
    "un= mainList[\"Unemployment\"].describe()"
   ]
  },
  {
   "cell_type": "code",
   "execution_count": null,
   "metadata": {},
   "outputs": [],
   "source": [
    "print(store)"
   ]
  },
  {
   "cell_type": "code",
   "execution_count": null,
   "metadata": {},
   "outputs": [],
   "source": [
    "print(date)"
   ]
  },
  {
   "cell_type": "code",
   "execution_count": null,
   "metadata": {},
   "outputs": [],
   "source": [
    "print(monthly_sales)"
   ]
  },
  {
   "cell_type": "code",
   "execution_count": null,
   "metadata": {},
   "outputs": [],
   "source": [
    "print(holiday_flag)\n",
    "plt.title(\"Is it holiday week\");\n",
    "sns.countplot(mainList[\"Holiday_Flag\"]);\n"
   ]
  },
  {
   "cell_type": "code",
   "execution_count": null,
   "metadata": {},
   "outputs": [],
   "source": [
    "print(temperature)"
   ]
  },
  {
   "cell_type": "code",
   "execution_count": null,
   "metadata": {},
   "outputs": [],
   "source": [
    "print(fuel)"
   ]
  },
  {
   "cell_type": "code",
   "execution_count": null,
   "metadata": {},
   "outputs": [],
   "source": [
    "print(cpi)"
   ]
  },
  {
   "cell_type": "code",
   "execution_count": null,
   "metadata": {},
   "outputs": [],
   "source": [
    "print(un)"
   ]
  },
  {
   "cell_type": "markdown",
   "metadata": {},
   "source": [
    "Split Data Into Test And Train Data\n"
   ]
  },
  {
   "cell_type": "code",
   "execution_count": null,
   "metadata": {},
   "outputs": [],
   "source": [
    "shuffle(mainList)\n",
    "X = mainList.drop('Monthly_Sales',axis=1)\n",
    "y = mainList[['Monthly_Sales']]\n",
    "train_x, test_x, train_y , test_y = train_test_split(X, y, test_size = 0.2)\n"
   ]
  },
  {
   "cell_type": "markdown",
   "metadata": {},
   "source": [
    "# Train The Models And Test\n",
    "\n"
   ]
  },
  {
   "cell_type": "markdown",
   "metadata": {},
   "source": [
    "### Linear \n",
    "\n"
   ]
  },
  {
   "cell_type": "code",
   "execution_count": null,
   "metadata": {},
   "outputs": [],
   "source": [
    "linear_regression = LinearRegression()\n",
    "linear_regression.fit(train_x, train_y)\n",
    "linearregressionPredict=linear_regression.predict(test_x)"
   ]
  },
  {
   "cell_type": "markdown",
   "metadata": {},
   "source": [
    "### KNN \n"
   ]
  },
  {
   "cell_type": "code",
   "execution_count": null,
   "metadata": {},
   "outputs": [],
   "source": [
    "knnRegression=KNeighborsRegressor(n_neighbors=2)\n",
    "knn_model = knnRegression.fit(train_x, train_y)\n",
    "knnPrediction=knn_model.predict(test_x)"
   ]
  },
  {
   "cell_type": "markdown",
   "metadata": {},
   "source": [
    "### Random Forest \n"
   ]
  },
  {
   "cell_type": "code",
   "execution_count": null,
   "metadata": {},
   "outputs": [],
   "source": [
    "randomForestRegresser = RandomForestRegressor()\n",
    "randomForestRegresser.fit(train_x, train_y) \n",
    "predictionRandomForest=randomForestRegresser.predict(test_x)"
   ]
  },
  {
   "cell_type": "markdown",
   "metadata": {},
   "source": [
    "### Decision Tree"
   ]
  },
  {
   "cell_type": "code",
   "execution_count": null,
   "metadata": {},
   "outputs": [],
   "source": [
    "decisionTreeReDecisionTreeRegressor=DecisionTreeRegressor()\n",
    "decisionTreeReDecisionTreeRegressor.fit(train_x,train_y)\n",
    "predictionDecisionTree=decisionTreeReDecisionTreeRegressor.predict(test_x)"
   ]
  },
  {
   "cell_type": "markdown",
   "metadata": {},
   "source": [
    "# Results"
   ]
  },
  {
   "cell_type": "markdown",
   "metadata": {},
   "source": [
    "### R2 Score\n",
    "\n"
   ]
  },
  {
   "cell_type": "code",
   "execution_count": null,
   "metadata": {},
   "outputs": [],
   "source": [
    "r2ScoreLinearRegression = r2_score(test_y, linearregressionPredict)\n",
    "print(\"R2 Score for Linear Regression:\", r2ScoreLinearRegression)\n",
    "\n",
    "r2ScoreKNN = r2_score(test_y, knnPrediction)\n",
    "print(\"R2 Score  for KNN Regression:\", r2ScoreKNN)\n",
    "\n",
    "r2ScoreRandomForest = r2_score(test_y, predictionRandomForest)\n",
    "print(\"R2 Score  for Random Forest Regression:\", r2ScoreRandomForest)\n",
    "\n",
    "r2ScoreDecisionTree = r2_score(test_y, predictionDecisionTree)\n",
    "print(\"R2 Score  for DecisionTree Regression:\", r2ScoreDecisionTree)\n"
   ]
  },
  {
   "cell_type": "markdown",
   "metadata": {},
   "source": [
    "### MSE"
   ]
  },
  {
   "cell_type": "code",
   "execution_count": null,
   "metadata": {},
   "outputs": [],
   "source": [
    "mseLG=mean_squared_error(test_y,linearregressionPredict)\n",
    "mseKNN = mean_squared_error(test_y, knnPrediction)\n",
    "mseRF=mean_squared_error(test_y,predictionRandomForest)\n",
    "mseDT = mean_squared_error(test_y,predictionDecisionTree)\n",
    "\n",
    "print(\"Linear Regression MSE:\", mseLG)\n",
    "print(\"KNN Regression MSE:\", mseKNN)\n",
    "print(\"Random Forest MSE:\", mseRF)\n",
    "print(\"Decision Tree MSE:\", mseDT)\n",
    "\n"
   ]
  },
  {
   "cell_type": "markdown",
   "metadata": {},
   "source": [
    "### RMSE"
   ]
  },
  {
   "cell_type": "code",
   "execution_count": null,
   "metadata": {},
   "outputs": [],
   "source": [
    "rmseLG = math.sqrt(mseLG)\n",
    "rmseKNN=math.sqrt(mseKNN)\n",
    "rmseRF = math.sqrt(mseRF)\n",
    "rmseDT=math.sqrt(mseDT)\n",
    "\n",
    "print(\"Linear Regression RMSE:\", rmseLG)\n",
    "print(\"KNN Regression RMSE:\", rmseKNN)\n",
    "print(\"Random Forest Regression RMSE:\", rmseLG)\n",
    "print(\"Decision Tree RMSE:\", rmseKNN)\n",
    "\n"
   ]
  },
  {
   "cell_type": "markdown",
   "metadata": {},
   "source": [
    "### Mean Absolute Error\n"
   ]
  },
  {
   "cell_type": "code",
   "execution_count": null,
   "metadata": {},
   "outputs": [],
   "source": [
    "print(\"Linear Regression MAE:\", mean_absolute_error(test_y, linearregressionPredict))\n",
    "print(\"KNN Regression MAE:\", mean_absolute_error(test_y, knnPrediction ))\n",
    "print(\"Random Forest Regression MAE:\", mean_absolute_error(test_y,predictionRandomForest))\n",
    "print(\"Decision Tree Regression MAE:\", mean_absolute_error(test_y, predictionDecisionTree ))\n"
   ]
  },
  {
   "cell_type": "markdown",
   "metadata": {},
   "source": [
    "### Run 10 Times And Get The Average of R2 Score Statistical Significance\n"
   ]
  },
  {
   "cell_type": "code",
   "execution_count": null,
   "metadata": {},
   "outputs": [],
   "source": [
    "loop=0\n",
    "avgR2Linear=r2ScoreLinearRegression\n",
    "avgR2Knn=r2ScoreKNN\n",
    "avgR2RandomForest=r2ScoreRandomForest\n",
    "avgR2DecisionTree=r2ScoreDecisionTree\n",
    "while(loop<9):\n",
    "    shuffle(mainList)\n",
    "    X = mainList.drop('Monthly_Sales',axis=1)\n",
    "    y = mainList[['Monthly_Sales']]\n",
    "    train_x, test_x, train_y , test_y = train_test_split(X, y, test_size = 0.2)\n",
    "\n",
    "    linear_regression.fit(train_x, train_y)\n",
    "    linearregressionPredict=linear_regression.predict(test_x)\n",
    "    r2ScoreLinearRegression = r2_score(test_y, linearregressionPredict)\n",
    "    \n",
    "    knn_model = knnRegression.fit(train_x, train_y)\n",
    "    knnPrediction=knn_model.predict(test_x)\n",
    "    r2ScoreKNN = r2_score(test_y, knnPrediction)\n",
    "\n",
    "    randomForestRegresser.fit(train_x, train_y) \n",
    "    predictionRandomForest=randomForestRegresser.predict(test_x)\n",
    "    r2ScoreRandomForest = r2_score(test_y, predictionRandomForest)\n",
    "\n",
    "    decisionTreeReDecisionTreeRegressor.fit(train_x,train_y)\n",
    "    predictionDecisionTree=decisionTreeReDecisionTreeRegressor.predict(test_x)\n",
    "    r2ScoreDecisionTree = r2_score(test_y, predictionDecisionTree)\n",
    "\n",
    "    avgR2Linear+=r2ScoreLinearRegression\n",
    "    avgR2Knn+=r2ScoreKNN\n",
    "    avgR2RandomForest+=r2ScoreRandomForest\n",
    "    avgR2DecisionTree+=r2ScoreDecisionTree\n",
    "\n",
    "    loop+=1\n",
    "    \n",
    "print(\"Average R2 Score  for Linear Regression:\", avgR2Linear/10)\n",
    "print(\"Average R2 Score for KNN Regression:\", avgR2Knn/10)\n",
    "print(\"Average R2 Score  for Random Forest Regression:\", avgR2RandomForest/10)\n",
    "print(\"Average R2 Score  for DecisionTree Regression:\", avgR2DecisionTree/10)\n",
    "    \n",
    "    "
   ]
  }
 ],
 "metadata": {
  "celltoolbar": "Raw Cell Format",
  "interpreter": {
   "hash": "ad2bdc8ecc057115af97d19610ffacc2b4e99fae6737bb82f5d7fb13d2f2c186"
  },
  "kernelspec": {
   "display_name": "Python 3 (ipykernel)",
   "language": "python",
   "name": "python3"
  },
  "language_info": {
   "codemirror_mode": {
    "name": "ipython",
    "version": 3
   },
   "file_extension": ".py",
   "mimetype": "text/x-python",
   "name": "python",
   "nbconvert_exporter": "python",
   "pygments_lexer": "ipython3",
   "version": "3.9.12"
  },
  "toc": {
   "base_numbering": 1,
   "nav_menu": {},
   "number_sections": true,
   "sideBar": true,
   "skip_h1_title": false,
   "title_cell": "Table of Contents",
   "title_sidebar": "Contents",
   "toc_cell": false,
   "toc_position": {},
   "toc_section_display": true,
   "toc_window_display": false
  },
  "varInspector": {
   "cols": {
    "lenName": 16,
    "lenType": 16,
    "lenVar": 40
   },
   "kernels_config": {
    "python": {
     "delete_cmd_postfix": "",
     "delete_cmd_prefix": "del ",
     "library": "var_list.py",
     "varRefreshCmd": "print(var_dic_list())"
    },
    "r": {
     "delete_cmd_postfix": ") ",
     "delete_cmd_prefix": "rm(",
     "library": "var_list.r",
     "varRefreshCmd": "cat(var_dic_list()) "
    }
   },
   "types_to_exclude": [
    "module",
    "function",
    "builtin_function_or_method",
    "instance",
    "_Feature"
   ],
   "window_display": false
  }
 },
 "nbformat": 4,
 "nbformat_minor": 2
}
